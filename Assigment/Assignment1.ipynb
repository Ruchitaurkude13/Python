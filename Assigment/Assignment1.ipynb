{
 "cells": [
  {
   "cell_type": "code",
   "execution_count": 1,
   "metadata": {},
   "outputs": [
    {
     "name": "stdout",
     "output_type": "stream",
     "text": [
      "Enter elements for the mixed list (type 'done' to stop):\n",
      "\n",
      "Mixed List: [23, 34, 4.5, 'fdd', 4.6]\n"
     ]
    }
   ],
   "source": [
    "\n",
    "print(\"Enter elements for the mixed list (type 'done' to stop):\")\n",
    "mixed_list = []\n",
    "\n",
    "while True:\n",
    "    user_input = input(\"Enter a value: \")\n",
    "    if user_input.lower() == 'done': \n",
    "        break\n",
    "\n",
    "    # Convert input to its appropriate type\n",
    "    try:\n",
    "        if '.' in user_input:\n",
    "            value = float(user_input) \n",
    "        else:\n",
    "            value = int(user_input) \n",
    "    except ValueError:\n",
    "        value = user_input \n",
    "    \n",
    "    mixed_list.append(value)\n",
    "\n",
    "print(\"\\nMixed List:\", mixed_list)\n"
   ]
  },
  {
   "cell_type": "code",
   "execution_count": null,
   "metadata": {},
   "outputs": [],
   "source": []
  }
 ],
 "metadata": {
  "kernelspec": {
   "display_name": "base",
   "language": "python",
   "name": "python3"
  },
  "language_info": {
   "codemirror_mode": {
    "name": "ipython",
    "version": 3
   },
   "file_extension": ".py",
   "mimetype": "text/x-python",
   "name": "python",
   "nbconvert_exporter": "python",
   "pygments_lexer": "ipython3",
   "version": "3.12.7"
  }
 },
 "nbformat": 4,
 "nbformat_minor": 2
}
