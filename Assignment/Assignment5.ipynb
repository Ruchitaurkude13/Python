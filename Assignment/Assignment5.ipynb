{
 "cells": [
  {
   "cell_type": "code",
   "execution_count": 4,
   "metadata": {},
   "outputs": [
    {
     "name": "stdout",
     "output_type": "stream",
     "text": [
      "\n",
      "--- Collected Data ---\n",
      "Name: Ruchita\n",
      "Email: rjdnjcbn@gmail.com\n",
      "MobileNo: 84080184478\n",
      "Address: hcbhcnd cudicjvmmdcxk\n",
      "Gender: Female\n",
      "DOB: 2000-10-4\n",
      "Marks10th: 99.0\n",
      "Marks12th: 99.0\n"
     ]
    }
   ],
   "source": [
    "import re\n",
    "\n",
    "validate_email = lambda email: re.match(r'^[a-zA-Z0-9_.+-]+@[a-zA-Z0-9-]+\\.[a-zA-Z0-9-.]+$', email) is not None\n",
    "validate_gender = lambda gender: gender in ['Male', 'Female', 'Other']\n",
    "\n",
    "\n",
    "user_data = {}\n",
    "\n",
    "user_data['Name'] = input(\"Enter Name: \").strip()\n",
    "\n",
    "\n",
    "user_data['Email'] = input(\"Enter Email: \").strip()\n",
    "while not validate_email(user_data['Email']):\n",
    "    print(\"Invalid email format. Please try again.\")\n",
    "    user_data['Email'] = input(\"Enter Email: \").strip()\n",
    "\n",
    "user_data['MobileNo'] = input(\"Enter Mobile Number (10 digits): \").strip()\n",
    "user_data['Address'] = input(\"Enter Address: \").strip()\n",
    "\n",
    "user_data['Gender'] = input(\"Enter Gender (Male/Female/Other): \").strip()\n",
    "while not validate_gender(user_data['Gender']):\n",
    "    print(\"Invalid gender. Please enter 'Male', 'Female', or 'Other'.\")\n",
    "    user_data['Gender'] = input(\"Enter Gender (Male/Female/Other): \").strip()\n",
    "\n",
    "user_data['DOB'] = input(\"Enter Date of Birth (YYYY-MM-DD): \").strip()\n",
    "user_data['Marks10th'] = float(input(\"Enter Marks in 10th (0-100): \").strip())\n",
    "user_data['Marks12th'] = float(input(\"Enter Marks in 12th (0-100): \").strip())\n",
    "\n",
    "\n",
    "print(\"\\n--- Collected Data ---\")\n",
    "for key, value in user_data.items():\n",
    "    print(f\"{key}: {value}\")\n",
    "\n",
    "\n"
   ]
  },
  {
   "cell_type": "code",
   "execution_count": null,
   "metadata": {},
   "outputs": [],
   "source": []
  }
 ],
 "metadata": {
  "kernelspec": {
   "display_name": "base",
   "language": "python",
   "name": "python3"
  },
  "language_info": {
   "codemirror_mode": {
    "name": "ipython",
    "version": 3
   },
   "file_extension": ".py",
   "mimetype": "text/x-python",
   "name": "python",
   "nbconvert_exporter": "python",
   "pygments_lexer": "ipython3",
   "version": "3.12.7"
  }
 },
 "nbformat": 4,
 "nbformat_minor": 2
}
