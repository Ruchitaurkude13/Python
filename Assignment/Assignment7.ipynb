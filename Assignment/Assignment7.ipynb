{
 "cells": [
  {
   "cell_type": "code",
   "execution_count": null,
   "metadata": {},
   "outputs": [],
   "source": [
    "#Create a logic to segregate folders based on file size. Make 3 folders \n",
    "#small size, middle size , large size folder and transfer the files to respective folders "
   ]
  },
  {
   "cell_type": "code",
   "execution_count": 3,
   "metadata": {},
   "outputs": [
    {
     "name": "stdout",
     "output_type": "stream",
     "text": [
      "Files segregated.\n"
     ]
    }
   ],
   "source": [
    "import os\n",
    "import shutil\n",
    "\n",
    "s_size = 100 * 1024  \n",
    "m_size = 5 * 1024 * 1024  \n",
    "\n",
    "source_dir = r\"C:\\\\Users\\\\Ruchi\\\\OneDrive\\\\Desktop\\\\source\"\n",
    "\n",
    "for file_name in os.listdir(source_dir):\n",
    "    file_path = source_dir + \"\\\\\" + file_name \n",
    "    if os.path.isfile(file_path):  \n",
    "        size = os.stat(file_path).st_size\n",
    "        if size <= s_size:\n",
    "            shutil.move(file_path, source_dir + \"\\\\Small_Size\\\\\" + file_name)\n",
    "        elif size <= m_size:\n",
    "            shutil.move(file_path, source_dir + \"\\\\Middle_Size\\\\\" + file_name)\n",
    "        else:\n",
    "            shutil.move(file_path, source_dir + \"\\\\Large_Size\\\\\" + file_name)\n",
    "\n",
    "print(\"Files segregated.\")"
   ]
  },
  {
   "cell_type": "code",
   "execution_count": null,
   "metadata": {},
   "outputs": [],
   "source": []
  }
 ],
 "metadata": {
  "kernelspec": {
   "display_name": "base",
   "language": "python",
   "name": "python3"
  },
  "language_info": {
   "codemirror_mode": {
    "name": "ipython",
    "version": 3
   },
   "file_extension": ".py",
   "mimetype": "text/x-python",
   "name": "python",
   "nbconvert_exporter": "python",
   "pygments_lexer": "ipython3",
   "version": "3.12.7"
  }
 },
 "nbformat": 4,
 "nbformat_minor": 2
}
