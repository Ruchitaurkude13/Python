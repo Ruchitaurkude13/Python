{
 "cells": [
  {
   "cell_type": "code",
   "execution_count": 1,
   "metadata": {},
   "outputs": [
    {
     "name": "stdout",
     "output_type": "stream",
     "text": [
      "Invalid email format. Please try again.\n",
      "Invalid email format. Please try again.\n",
      "Invalid email format. Please try again.\n",
      "Invalid email format. Please try again.\n",
      "Invalid email format. Please try again.\n",
      "Invalid email format. Please try again.\n",
      "Invalid email format. Please try again.\n",
      "Invalid email format. Please try again.\n",
      "Invalid email format. Please try again.\n",
      "Invalid email format. Please try again.\n",
      "\n",
      "--- Entered Details ---\n",
      "Name: \n",
      "Email: ruchitaurkude13@gmail.com\n",
      "Mobile Number: 564573622783\n",
      "Address: bdegfc hhdud hfbewuiuf\n",
      "Gender: Female\n",
      "Date of Birth: 1996-13-05\n",
      "Marks in 10th: 77.0\n",
      "Marks in 12th: 52.0\n"
     ]
    }
   ],
   "source": [
    "import re\n",
    "\n",
    "def validate_email(email):\n",
    "    \"\"\"Validate email format.\"\"\"\n",
    "    pattern = r'^[a-zA-Z0-9_.+-]+@[a-zA-Z0-9-]+\\.[a-zA-Z0-9-.]+$'\n",
    "    return bool(re.match(pattern, email))\n",
    "\n",
    "def validate_gender(gender):\n",
    "    \"\"\"Validate gender input.\"\"\"\n",
    "    valid_genders = ['Male', 'Female', 'Other']\n",
    "    return gender in valid_genders\n",
    "\n",
    "# Input values from the user\n",
    "name = input(\"Enter Name: \").strip()\n",
    "email = input(\"Enter Email: \").strip()\n",
    "\n",
    "# Validate email\n",
    "while not validate_email(email):\n",
    "    print(\"Invalid email format. Please try again.\")\n",
    "    email = input(\"Enter Email: \").strip()\n",
    "\n",
    "mobile_no = input(\"Enter Mobile Number (10 digits): \").strip()\n",
    "address = input(\"Enter Address: \").strip()\n",
    "\n",
    "gender = input(\"Enter Gender (Male/Female/Other): \").strip()\n",
    "\n",
    "# Validate gender\n",
    "while not validate_gender(gender):\n",
    "    print(\"Invalid gender. Please enter 'Male', 'Female', or 'Other'.\")\n",
    "    gender = input(\"Enter Gender (Male/Female/Other): \").strip()\n",
    "\n",
    "dob = input(\"Enter Date of Birth (YYYY-MM-DD): \").strip()\n",
    "marks_10th = float(input(\"Enter Marks in 10th (0-100): \").strip())\n",
    "marks_12th = float(input(\"Enter Marks in 12th (0-100): \").strip())\n",
    "\n",
    "# Display entered data\n",
    "print(\"\\n--- Entered Details ---\")\n",
    "print(f\"Name: {name}\")\n",
    "print(f\"Email: {email}\")\n",
    "print(f\"Mobile Number: {mobile_no}\")\n",
    "print(f\"Address: {address}\")\n",
    "print(f\"Gender: {gender}\")\n",
    "print(f\"Date of Birth: {dob}\")\n",
    "print(f\"Marks in 10th: {marks_10th}\")\n",
    "print(f\"Marks in 12th: {marks_12th}\")\n",
    "\n",
    "# This is where you would typically insert the validated data into the database\n",
    "# For example, using an SQL INSERT query with a connection to the database.\n"
   ]
  },
  {
   "cell_type": "code",
   "execution_count": null,
   "metadata": {},
   "outputs": [],
   "source": []
  }
 ],
 "metadata": {
  "kernelspec": {
   "display_name": "base",
   "language": "python",
   "name": "python3"
  },
  "language_info": {
   "codemirror_mode": {
    "name": "ipython",
    "version": 3
   },
   "file_extension": ".py",
   "mimetype": "text/x-python",
   "name": "python",
   "nbconvert_exporter": "python",
   "pygments_lexer": "ipython3",
   "version": "3.12.7"
  }
 },
 "nbformat": 4,
 "nbformat_minor": 2
}
