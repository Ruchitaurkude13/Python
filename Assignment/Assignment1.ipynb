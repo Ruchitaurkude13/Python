{
 "cells": [
  {
   "cell_type": "code",
   "execution_count": 3,
   "metadata": {},
   "outputs": [
    {
     "name": "stdout",
     "output_type": "stream",
     "text": [
      "[1, 2, 3, 4, 5, 6]\n",
      "['abc', 'xyz', 'pqr']\n"
     ]
    }
   ],
   "source": [
    "list1  = [\"abc\", \"xyz\",\"pqr\",1,2,3,4,5,6]\n",
    "non_string_list = []\n",
    "string_list = []\n",
    "\n",
    "for element in list1:\n",
    "    \n",
    "    if isinstance(element,(int,float)):\n",
    "        non_string_list.append(element)\n",
    "    else:\n",
    "        string_list.append(element)\n",
    "\n",
    "print(non_string_list)\n",
    "print(string_list)\n"
   ]
  },
  {
   "cell_type": "code",
   "execution_count": null,
   "metadata": {},
   "outputs": [],
   "source": []
  }
 ],
 "metadata": {
  "kernelspec": {
   "display_name": "base",
   "language": "python",
   "name": "python3"
  },
  "language_info": {
   "codemirror_mode": {
    "name": "ipython",
    "version": 3
   },
   "file_extension": ".py",
   "mimetype": "text/x-python",
   "name": "python",
   "nbconvert_exporter": "python",
   "pygments_lexer": "ipython3",
   "version": "3.12.7"
  }
 },
 "nbformat": 4,
 "nbformat_minor": 2
}
