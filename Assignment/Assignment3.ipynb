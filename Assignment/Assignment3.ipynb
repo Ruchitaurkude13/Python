{
 "cells": [
  {
   "cell_type": "code",
   "execution_count": null,
   "metadata": {},
   "outputs": [
    {
     "name": "stdout",
     "output_type": "stream",
     "text": [
      "==============BILL CARD===================\n",
      "\n",
      "Customer Name: Ruchita\n",
      "Date: 2025-01-09\n",
      "==========================================\n",
      "Item      Qty       Price     Total     \n",
      "Pizza     1         100.00    100.00    \n",
      "==========================================\n",
      "TOTAL AMOUNT        100.00    \n",
      "==========================================\n"
     ]
    }
   ],
   "source": [
    "from datetime import datetime\n",
    "\n",
    "\n",
    "def bill_card():\n",
    "\n",
    "    print(\"==============BILL CARD===================\")\n",
    "    \n",
    "\n",
    "    name = input(\"Enter customer name: \")\n",
    "    date = datetime.now().strftime(\"%Y-%m-%d\")\n",
    "    print(f\"\\nCustomer Name: {name}\")\n",
    "    print(f\"Date: {date}\")\n",
    "    print(\"==========================================\")\n",
    "\n",
    "    items = []\n",
    "    total_amount = 0\n",
    "    \n",
    "\n",
    "    for _ in range(10):  \n",
    "        item_name = input(\"\\nEnter item name (or type 'done' to finish): \")\n",
    "        if item_name.lower() == 'done':\n",
    "            break\n",
    "        quantity = int(input(f\"Enter quantity for {item_name}: \"))\n",
    "        price = float(input(f\"Enter price per unit for {item_name}: \"))\n",
    "        item_total = quantity * price\n",
    "        total_amount += item_total\n",
    "        items.append((item_name, quantity, price, item_total))\n",
    "    \n",
    "\n",
    "    print(f\"{'Item':<10}{'Qty':<10}{'Price':<10}{'Total':<10}\")\n",
    "\n",
    "\n",
    "    for item in items:\n",
    "        print(f\"{item[0]:<10}{item[1]:<10}{item[2]:<10.2f}{item[3]:<10.2f}\")\n",
    "    \n",
    "    print(\"==========================================\")\n",
    "    print(f\"{'TOTAL AMOUNT':<20}{total_amount:<10.2f}\")\n",
    "    print(\"==========================================\")\n",
    "\n",
    "\n",
    "bill_card()"
   ]
  },
  {
   "cell_type": "code",
   "execution_count": null,
   "metadata": {},
   "outputs": [],
   "source": []
  }
 ],
 "metadata": {
  "kernelspec": {
   "display_name": "base",
   "language": "python",
   "name": "python3"
  },
  "language_info": {
   "codemirror_mode": {
    "name": "ipython",
    "version": 3
   },
   "file_extension": ".py",
   "mimetype": "text/x-python",
   "name": "python",
   "nbconvert_exporter": "python",
   "pygments_lexer": "ipython3",
   "version": "3.12.7"
  }
 },
 "nbformat": 4,
 "nbformat_minor": 2
}
