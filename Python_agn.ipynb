{
 "cells": [
  {
   "cell_type": "code",
   "execution_count": 3,
   "metadata": {},
   "outputs": [
    {
     "name": "stdout",
     "output_type": "stream",
     "text": [
      "['1.5', '3', '8']\n"
     ]
    }
   ],
   "source": [
    "#1.\tCreate the empty list and ask user to enters only int, float elements in the list.\n",
    "\n",
    "list1 = []\n",
    "while True:\n",
    "    element = input(\"Enter only int or float element (or done to finish): \")\n",
    "    if element.lower() == 'done':\n",
    "        break\n",
    "    try:\n",
    "        float(element)\n",
    "        list1.append(element)\n",
    "    except ValueError:\n",
    "        print(\"Invalid input. Please enter a number.\")    \n",
    "print(list1)                                                            \n",
    "\n"
   ]
  },
  {
   "cell_type": "code",
   "execution_count": 4,
   "metadata": {},
   "outputs": [
    {
     "name": "stdout",
     "output_type": "stream",
     "text": [
      "{'4': 'g', '6': 'j'}\n"
     ]
    }
   ],
   "source": [
    "#2.\tCreate a empty dictionary d1 ask user to enter the values using loop\n",
    "\n",
    "d1 = {}\n",
    "n = int(input(\"Enter the number of elements: \"))\n",
    "for i in range(n):\n",
    "    key = input(\"Enter the key: \")\n",
    "    value = input(\"Enter the value: \")\n",
    "    d1[key] = value\n",
    "print(d1)"
   ]
  },
  {
   "cell_type": "code",
   "execution_count": null,
   "metadata": {},
   "outputs": [
    {
     "name": "stdout",
     "output_type": "stream",
     "text": [
      "Final Dictionary: {'3': '4', '5': '6', '6': '7'}\n"
     ]
    }
   ],
   "source": [
    "#3.\tCreate a empty dictionary d1 ask user to enter the values using comprehensive list\n",
    "\n",
    "d1 = {}\n",
    "n = int(input(\"Enter the number of key-value pairs: \"))\n",
    " \n",
    "d1 = {input(f\"Enter key {i+1}: \"): input(f\"Enter value {i+1}: \") for i in range(n)}\n",
    "\n",
    "print(\"Final Dictionary:\", d1)"
   ]
  },
  {
   "cell_type": "code",
   "execution_count": 5,
   "metadata": {},
   "outputs": [
    {
     "name": "stdout",
     "output_type": "stream",
     "text": [
      "Results (Addition, Subtraction, Multiplication, Division): (12.0, -4.0, 32.0, 0.5)\n"
     ]
    }
   ],
   "source": [
    "\n",
    "#4.\tCreate a function which will accept two integer or float parameter \n",
    "# from user and return 4 arithmetic operations in the form of tuple. \n",
    "# If user pass argument other than integer and float then error should be created.\n",
    "\n",
    "def a(a, b):\n",
    "    if not (isinstance(a, (int, float)) and isinstance(b, (int, float))):\n",
    "        raise TypeError(\"Both arguments must be integers or floats.\")\n",
    "\n",
    "    addition = a + b\n",
    "    subtraction = a - b\n",
    "    multiplication = a * b\n",
    "\n",
    "    division = a / b if b != 0 else \"Division by zero not allowed\"\n",
    "\n",
    "    return (addition, subtraction, multiplication, division)\n",
    "\n",
    "\n",
    "try:\n",
    "    num1 = float(input(\"Enter first number: \"))\n",
    "    num2 = float(input(\"Enter second number: \"))\n",
    "\n",
    "    result = a(num1, num2)\n",
    "    print(\"Results (Addition, Subtraction, Multiplication, Division):\", result)\n",
    "\n",
    "except ValueError:\n",
    "    print(\"Invalid input! Please enter numbers only.\")\n",
    "except TypeError as e:\n",
    "    print(e)          "
   ]
  },
  {
   "cell_type": "code",
   "execution_count": 6,
   "metadata": {},
   "outputs": [
    {
     "name": "stdout",
     "output_type": "stream",
     "text": [
      "Results (Addition, Subtraction, Multiplication, Division, Multiplication/2): (13.0, 1.0, 42.0, 1.1666666666666667, 21.0)\n"
     ]
    }
   ],
   "source": [
    "#5.\t Based on the above function (Question number 4) dived the outcome of multiplication by 2. \n",
    "\n",
    "def a(a, b):\n",
    "    if not (isinstance(a, (int, float)) and isinstance(b, (int, float))):\n",
    "        raise TypeError(\"Both arguments must be integers or floats.\")\n",
    "\n",
    "    addition = a + b\n",
    "    subtraction = a - b\n",
    "    multiplication = a * b\n",
    "    division = a / b if b != 0 else \"Division by zero not allowed\"\n",
    "\n",
    "    multiplication_divided = multiplication / 2\n",
    "\n",
    "    return (addition, subtraction, multiplication, division, multiplication_divided)\n",
    "\n",
    "\n",
    "try:\n",
    "    num1 = float(input(\"Enter first number: \"))\n",
    "    num2 = float(input(\"Enter second number: \"))\n",
    "\n",
    "    result = a(num1, num2)\n",
    "    print(\"Results (Addition, Subtraction, Multiplication, Division, Multiplication/2):\", result)\n",
    "\n",
    "except ValueError:\n",
    "    print(\"Invalid input! Please enter numbers only.\")\n",
    "except TypeError as e:\n",
    "  print(e)"
   ]
  },
  {
   "cell_type": "code",
   "execution_count": 9,
   "metadata": {},
   "outputs": [
    {
     "name": "stdout",
     "output_type": "stream",
     "text": [
      "Skipping non-string element: 123 (Type: int)\n",
      "Skipping non-string element: 456 (Type: int)\n",
      "Skipping non-string element: 8.9 (Type: float)\n",
      "list: ['A', 'B', 'Ruchita', 'max']\n"
     ]
    }
   ],
   "source": [
    "#6.\tcreate a function to add only string element in a list. if other than string display the appropriate message.\n",
    "\n",
    "def s(lst):\n",
    "    if not isinstance(lst, list):\n",
    "        raise TypeError(\"Input must be a list.\")\n",
    "\n",
    "    string_list = []\n",
    "\n",
    "    for item in lst:\n",
    "        if isinstance(item, str):\n",
    "            string_list.append(item)\n",
    "        else:\n",
    "            print(f\"Skipping non-string element: {item} (Type: {type(item).__name__})\")\n",
    "\n",
    "    return string_list\n",
    "\n",
    "sample_list = [\"A\", 123, \"B\", 456, \"Ruchita\", 8.9,\"max\"]\n",
    "result = s(sample_list)\n",
    "print(\"list:\", result)"
   ]
  },
  {
   "cell_type": "code",
   "execution_count": 15,
   "metadata": {},
   "outputs": [
    {
     "name": "stdout",
     "output_type": "stream",
     "text": [
      "<function file at 0x00000213D4E87100>\n"
     ]
    }
   ],
   "source": [
    "#7.\tCreate a function to read the file and return the dictionary of total lines, total words\n",
    "\n",
    "def file(file_path):\n",
    "    \"\"\"Reads a file and returns a dictionary with total lines and words.\"\"\"\n",
    "\n",
    "    try:\n",
    "        with open(\"/content/sample_data/mnist_test.csv\",'r') as file:\n",
    "            lines = file.readlines()\n",
    "            total_lines = len(lines)\n",
    "            total_words = 0\n",
    "            for line in lines:\n",
    "                words = line.split()\n",
    "                total_words += len(words)\n",
    "            return {\"total_lines\": total_lines, \"total_words\": total_words}\n",
    "    except FileNotFoundError:\n",
    "        return {\"error\": \"File not found\"}\n",
    "    except Exception as e:\n",
    "        return {\"error\": f\"An error occurred: {e}\"}\n",
    "\n",
    "print(file)"
   ]
  },
  {
   "cell_type": "code",
   "execution_count": 20,
   "metadata": {},
   "outputs": [
    {
     "name": "stdout",
     "output_type": "stream",
     "text": [
      "<class 'dict'>\n",
      "Key-Value Pairs:\n"
     ]
    },
    {
     "data": {
      "text/plain": [
       "{'name': 'Ruchita', 'adds': 'abc', 'city': 'pune'}"
      ]
     },
     "execution_count": 20,
     "metadata": {},
     "output_type": "execute_result"
    }
   ],
   "source": [
    "#8.\tCreate a function which will accept the dictionary and display key values in separate line.\n",
    "\n",
    "\n",
    "d = {\"name\": \"Ruchita\", \"adds\": \"abc\" ,\"city\": \"pune\"}\n",
    "\n",
    "def display_dictionary(input_dict):\n",
    "    \"\"\"\n",
    "    Accepts a dictionary and displays key-value pairs on separate lines.\n",
    "    \"\"\"\n",
    "    if isinstance(input_dict, tuple):\n",
    "        print(\"Invalid input: Input must be a dictionary.\")\n",
    "    else:\n",
    "      print(\"Key-Value Pairs:\")\n",
    "      return d\n",
    "\n",
    "    for key, value in input_dict.items():\n",
    "        print(f\"Key: {key}, Value: {value}\")\n",
    "\n",
    "print(type(d))\n",
    "display_dictionary(d)"
   ]
  },
  {
   "cell_type": "code",
   "execution_count": null,
   "metadata": {},
   "outputs": [
    {
     "name": "stdout",
     "output_type": "stream",
     "text": [
      "Key: A,Value: apple\n",
      "Key: B,Value: 123\n",
      "Key: C,Value: Cat\n"
     ]
    }
   ],
   "source": [
    "#9.Create a lambda function which will accept the dictionary and display key values in separate line.\n",
    "\n",
    "display_dict = lambda input_dict: print(\"\\n\".join(f\"Key: {key},Value: {value}\" for key, value in input_dict.items()))\n",
    "my_dict = {\"A\": \"apple\", \"B\": 123, \"C\": \"Cat\"}\n",
    "display_dict(my_dict)"
   ]
  },
  {
   "cell_type": "code",
   "execution_count": 21,
   "metadata": {},
   "outputs": [
    {
     "name": "stdout",
     "output_type": "stream",
     "text": [
      "Password is valid.\n"
     ]
    }
   ],
   "source": [
    "#10.Create a function to validate the password: password should contains at least one small letter, \n",
    "#one capital letter, one number, and one special character except comma, quotes\n",
    "\n",
    "def password_validation():\n",
    "    try:\n",
    "        password = input(\"Enter your password: \")\n",
    "        if len(password) < 6:\n",
    "            raise ValueError(\"Password should be at least 8 characters long.\")\n",
    "        if not any(char.isupper() for char in password):\n",
    "            raise ValueError(\"Password should contain at least one uppercase letter.\")\n",
    "        if not any(char.islower() for char in password):\n",
    "            raise ValueError(\"Password should contain at least one lowercase letter.\")\n",
    "        if not any(char.isdigit() for char in password):\n",
    "            raise TypeError(\"Password should contain at least one digit.\")\n",
    "        if not any(char in \"!@#$%^&*()_+\" for char in password):\n",
    "            raise ValueError(\"Password should contain at least one special character.\")\n",
    "    except (ValueError,TypeError) as e:\n",
    "        print(\"Invalid password:\", e)\n",
    "    else:\n",
    "        print(\"Password is valid.\")\n",
    "password_validation()"
   ]
  },
  {
   "cell_type": "code",
   "execution_count": 22,
   "metadata": {},
   "outputs": [],
   "source": [
    "#11.Generate a decorator having logic to accept natural numbers . which can be used in a function of factorial\n",
    "\n",
    "def natural_num(func):\n",
    "    def wrapper(n):\n",
    "      try:\n",
    "        if isinstance(n, int) and n >= 0:\n",
    "          return func(n)\n",
    "        else:\n",
    "          raise Exception\n",
    "      except:\n",
    "        print(\"not a natural no\")\n",
    "    return wrapper\n",
    "\n",
    "@natural_num\n",
    "def factorial(n):\n",
    "    if n == 0:\n",
    "        return 1\n",
    "    else:\n",
    "        return n * factorial(n-1)"
   ]
  },
  {
   "cell_type": "code",
   "execution_count": 23,
   "metadata": {},
   "outputs": [
    {
     "name": "stdout",
     "output_type": "stream",
     "text": [
      "not a natural no\n"
     ]
    },
    {
     "data": {
      "text/plain": [
       "720"
      ]
     },
     "execution_count": 23,
     "metadata": {},
     "output_type": "execute_result"
    }
   ],
   "source": [
    "factorial(5.6)\n",
    "factorial(6)"
   ]
  },
  {
   "cell_type": "code",
   "execution_count": 24,
   "metadata": {},
   "outputs": [
    {
     "name": "stdout",
     "output_type": "stream",
     "text": [
      "Access denied: Garden visits are allowed only between 7 AM and 7 PM.\n"
     ]
    }
   ],
   "source": [
    "#12.Generate the decorator for a Garden visit to check if current time is between 7am to 7pm. \n",
    "#  If true the only call the function else generate the error. \n",
    "\n",
    "#a.\tFunction payment_check() is active only within given time span and it will check for all user transaction in that given month.\n",
    "#b.\tFunction entry() will be perform entry transaction of the user\n",
    "#c.\tFunction exit() will update the outtime of the user if entry exists  \n",
    "\n",
    "\n",
    "from datetime import datetime\n",
    "import functools\n",
    "\n",
    "def time_check(func):\n",
    "    @functools.wraps(func)\n",
    "    def wrapper(*args, **kwargs):\n",
    "        current_time = datetime.now().time()\n",
    "        start_time = datetime.strptime(\"07:00\", \"%H:%M\").time()\n",
    "        end_time = datetime.strptime(\"19:00\", \"%H:%M\").time()\n",
    "\n",
    "        if start_time <= current_time <= end_time:\n",
    "            return func(*args, **kwargs)\n",
    "        else:\n",
    "            raise PermissionError(\"Access denied: Garden visits are allowed only between 7 AM and 7 PM.\")\n",
    "\n",
    "    return wrapper\n",
    "\n",
    "@time_check\n",
    "def payment_check(user_id, month):\n",
    "    print(f\"Checking transactions for User ID {user_id} in the month of {month}.\")\n",
    "    return f\"Transactions retrieved for User ID {user_id} in {month}.\"\n",
    "\n",
    "@time_check\n",
    "def entry(user_id):\n",
    "    print(f\"User ID {user_id} has entered the garden.\")\n",
    "    return f\"Entry recorded for User ID {user_id}.\"\n",
    "\n",
    "@time_check\n",
    "def exit(user_id):\n",
    "    print(f\"User ID {user_id} has exited the garden.\")\n",
    "    return f\"Exit recorded for User ID {user_id}.\"\n",
    "\n",
    "try:\n",
    "    print(payment_check(101, \"February\"))\n",
    "    print(entry(101))\n",
    "    print(exit(101))\n",
    "except PermissionError as e:\n",
    "    print(e)"
   ]
  },
  {
   "cell_type": "code",
   "execution_count": 28,
   "metadata": {},
   "outputs": [
    {
     "name": "stdout",
     "output_type": "stream",
     "text": [
      "all best the\n"
     ]
    }
   ],
   "source": [
    "#13.Create lambda function for sorting of the string\n",
    "\n",
    "sort_words = lambda sentence: \" \".join(sorted(sentence.split()))\n",
    "print(sort_words(\"all the best\"))\n"
   ]
  },
  {
   "cell_type": "code",
   "execution_count": 29,
   "metadata": {},
   "outputs": [
    {
     "name": "stdout",
     "output_type": "stream",
     "text": [
      "ABC0001\n",
      "ABC0002\n",
      "ABC0003\n",
      "ABC0004\n",
      "ABC0005\n"
     ]
    }
   ],
   "source": [
    "#14.Create a generator which will generate runtime unique value as  ABC0001, ABC0002, ABC0003… \n",
    "\n",
    "def unique_id_generator():\n",
    "    i = 1\n",
    "    while True:\n",
    "        yield f\"ABC{i:04}\"\n",
    "        i += 1\n",
    "\n",
    "id_gen = unique_id_generator()\n",
    "for _ in range(5):\n",
    "    print(next(id_gen))"
   ]
  },
  {
   "cell_type": "code",
   "execution_count": 31,
   "metadata": {},
   "outputs": [
    {
     "name": "stdout",
     "output_type": "stream",
     "text": [
      "None\n",
      "None\n",
      "Invalid input: 'ABCD@1234F' - All inputs must be alphanumeric.\n"
     ]
    }
   ],
   "source": [
    "#15.Create a decorator to check if all input values are alpha numeric and based \n",
    "# on it check PAN detail  AAAAA1111X , rec.no   first 3 chr next 5 number \n",
    "\n",
    "\n",
    "\n",
    "import functools\n",
    "import re\n",
    "\n",
    "def validate_input(func):\n",
    "    @functools.wraps(func)\n",
    "    def wrapper(*args, **kwargs):\n",
    "         for arg in args:\n",
    "            if not isinstance(arg, str) or not arg.isalnum():\n",
    "                raise ValueError(f\"Invalid input: '{arg}' - All inputs must be alphanumeric.\")\n",
    "\n",
    "                pan_pattern = r\"^[A-Z]{5}[0-9]{4}[A-Z]$\"\n",
    "\n",
    "                for arg in args:\n",
    "                  if re.match(pan_pattern, arg):\n",
    "                    print(f\"Valid PAN: {arg}\")\n",
    "                  else:\n",
    "                    print(f\"Invalid PAN format: {arg}\")\n",
    "                    return func(*args, **kwargs)\n",
    "\n",
    "    return wrapper\n",
    "\n",
    "@validate_input\n",
    "def check_pan(pan_number):\n",
    "    return f\"PAN '{pan_number}' is processed successfully.\"\n",
    "\n",
    "try:\n",
    "    print(check_pan(\"ruchita1234F\"))\n",
    "    print(check_pan(\"abcA2C34567\"))\n",
    "    print(check_pan(\"ABCD@1234F\"))\n",
    "except ValueError as e:\n",
    "    print(e)"
   ]
  },
  {
   "cell_type": "code",
   "execution_count": 32,
   "metadata": {},
   "outputs": [
    {
     "name": "stdout",
     "output_type": "stream",
     "text": [
      "Addition: 14.0\n",
      "Subtraction: 2.0\n",
      "Multiplication: 48.0\n",
      "Division: 1.3333333333333333\n",
      "Modulus: 2.0\n",
      "Exponentiation: 262144.0\n",
      "Floor Division: 1.0\n"
     ]
    }
   ],
   "source": [
    "#16.Accept 2 values from user and perform all arithmetic operations and return all\n",
    "\n",
    "\n",
    "def arithmetic_operations(a, b):\n",
    "    if not (isinstance(a, (int, float)) and isinstance(b, (int, float))):\n",
    "        raise ValueError(\"Both inputs must be either integers or floats.\")\n",
    "\n",
    "    addition = a + b\n",
    "    subtraction = a - b\n",
    "    multiplication = a * b\n",
    "    division = a / b if b != 0 else \"Error: Division by zero\"\n",
    "    modulus = a % b if b != 0 else \"Error: Modulus by zero\"\n",
    "    exponentiation = a ** b\n",
    "    floor_division = a // b if b != 0 else \"Error: Floor division by zero\"\n",
    "\n",
    "    return (addition, subtraction, multiplication, division, modulus, exponentiation, floor_division)\n",
    "\n",
    "try:\n",
    "    num1 = float(input(\"Enter first number: \"))\n",
    "    num2 = float(input(\"Enter second number: \"))\n",
    "\n",
    "    results = arithmetic_operations(num1, num2)\n",
    "\n",
    "    print(f\"Addition: {results[0]}\")\n",
    "    print(f\"Subtraction: {results[1]}\")\n",
    "    print(f\"Multiplication: {results[2]}\")\n",
    "    print(f\"Division: {results[3]}\")\n",
    "    print(f\"Modulus: {results[4]}\")\n",
    "    print(f\"Exponentiation: {results[5]}\")\n",
    "    print(f\"Floor Division: {results[6]}\")\n",
    "\n",
    "except ValueError as e:\n",
    "    print(f\"Error: {e}\")"
   ]
  },
  {
   "cell_type": "code",
   "execution_count": 33,
   "metadata": {},
   "outputs": [
    {
     "name": "stdout",
     "output_type": "stream",
     "text": [
      "Error: Please enter a valid mobile number.\n",
      "None\n"
     ]
    }
   ],
   "source": [
    "#17.Ask user to enter any 3 input e.g name, marks , mobile_num\n",
    "#if name is with other special characters then it should not not ask for next makrs input\n",
    "   \t#note: \n",
    "#o\tCreate separate functions for validation of every variable \n",
    "#o\tEvery single block should have proper exception\n",
    "#o\tEvery function must have the docstring\n",
    "#o\tOnce the validation is done dictionary has to be created and store the dictionary to one txt file\n",
    "\n",
    "import re\n",
    "def validate_name(name):\n",
    "    name_pattern = r\"^[a-zA-Z\\s]+$\"\n",
    "    if not re.match(name_pattern, name):\n",
    "        raise ValueError(\"Please enter a valid name.\")\n",
    "    return name\n",
    "\n",
    "def validate_marks(marks):\n",
    "    marks_pattern = r\"^[0-9]+$\"\n",
    "    if not re.match(marks_pattern, marks):\n",
    "        raise ValueError(\"Please enter a valid marks.\")\n",
    "    return marks\n",
    "\n",
    "def validate_mobile_num(mobile_num):\n",
    "    mobile_num_pattern = r\"^\\d{10}$\"        \n",
    "    if not re.match(mobile_num_pattern, mobile_num):\n",
    "        raise ValueError(\"Please enter a valid mobile number.\")\n",
    "    return mobile_num  \n",
    "\n",
    "def create_dict(name, marks, mobile_num):\n",
    "    try:\n",
    "        name = validate_name(name)\n",
    "        marks = validate_marks(marks)\n",
    "        mobile_num = validate_mobile_num(mobile_num)\n",
    "    except ValueError as e:\n",
    "        print(f\"Error: {e}\")\n",
    "        return None\n",
    "    return {\"name\": name, \"marks\": marks, \"mobile_num\": mobile_num}\n",
    "\n",
    "name = input(\"Enter your name: \")\n",
    "marks = input(\"Enter your marks: \")\n",
    "mobile_num = input(\"Enter your mobile number: \")\n",
    "result = create_dict(name,marks, mobile_num)\n",
    "print (result)\n",
    "\n"
   ]
  },
  {
   "cell_type": "code",
   "execution_count": 35,
   "metadata": {},
   "outputs": [
    {
     "name": "stdout",
     "output_type": "stream",
     "text": [
      "Source folder 'source_files' does not exist.\n",
      "File segregation completed. Check the log file for details.\n"
     ]
    }
   ],
   "source": [
    "#  18.\tSegregate file in small , medium and large size in different folder \n",
    "# o\tfilesize less than and equal to 10KB is small file \n",
    "# o\tfilesize more than 10 KB is the medium file \n",
    "# o\tfilesize more than 40 kb is the large file \n",
    "# o\tcreate the log file  \n",
    "\n",
    "import os\n",
    "import shutil\n",
    "from datetime import datetime\n",
    "\n",
    "SOURCE_FOLDER = \"source_files\"\n",
    "SMALL_FOLDER = \"small_files\"\n",
    "MEDIUM_FOLDER = \"medium_files\"\n",
    "LARGE_FOLDER = \"large_files\"\n",
    "LOG_FILE = \"log.txt\"\n",
    "for folder in [SMALL_FOLDER, MEDIUM_FOLDER, LARGE_FOLDER]:\n",
    "    if not os.path.exists(folder):\n",
    "        os.makedirs(folder)\n",
    "\n",
    "def log_entry(message):\n",
    "    \"\"\"\n",
    "    Logs an entry to the log file with a timestamp.\n",
    "    \"\"\"\n",
    "    with open(LOG_FILE, \"a\") as log:\n",
    "        log.write(f\"{datetime.now()} - {message}\\n\")\n",
    "\n",
    "def classify_and_move_files():\n",
    "    \"\"\"\n",
    "    Classifies files based on size and moves them to respective folders.\n",
    "    \"\"\"\n",
    "    if not os.path.exists(SOURCE_FOLDER):\n",
    "        print(f\"Source folder '{SOURCE_FOLDER}' does not exist.\")\n",
    "        return\n",
    "\n",
    "    for file_name in os.listdir(SOURCE_FOLDER):\n",
    "        file_path = os.path.join(SOURCE_FOLDER, file_name)\n",
    "\n",
    "        if os.path.isfile(file_path):\n",
    "            file_size = os.path.getsize(file_path)\n",
    "            file_size_kb = file_size / 1024\n",
    "\n",
    "            if file_size_kb <= 10:\n",
    "                target_folder = SMALL_FOLDER\n",
    "            elif file_size_kb <= 40:\n",
    "                target_folder = MEDIUM_FOLDER\n",
    "            else:\n",
    "                target_folder = LARGE_FOLDER\n",
    "\n",
    "            target_path = os.path.join(target_folder, file_name)\n",
    "            shutil.move(file_path, target_path)\n",
    "\n",
    "            log_entry(f\"Moved '{file_name}' ({file_size_kb:.2f} KB) to '{target_folder}'\")\n",
    "            print(f\"Moved: {file_name} -> {target_folder}\")\n",
    "\n",
    "if __name__ == \"__main__\":\n",
    "    classify_and_move_files()\n",
    "    print(\"File segregation completed. Check the log file for details.\")"
   ]
  },
  {
   "cell_type": "code",
   "execution_count": null,
   "metadata": {},
   "outputs": [],
   "source": [
    "# 19.\tIn the hotel user is entering the details of menu, quantity and printing the bill. number of menu may varies with customer's order  \n",
    "# generate a file having grocery bill as per the below format \n",
    "\n",
    "# Note: User may enter n entities and total will be calculated adding the GST of 10% separately \n",
    "# **apply exception wherever it is required.  \n",
    "# **create the log file and check if code is arranged in a proper format using flake8, pylint, etc. "
   ]
  },
  {
   "cell_type": "code",
   "execution_count": 37,
   "metadata": {},
   "outputs": [
    {
     "name": "stdout",
     "output_type": "stream",
     "text": [
      "\n",
      "You have ordered:\n",
      "pizza\n",
      "pasta\n",
      "------------------------------------------------------------\n",
      "|\t\t Welcome to ABC\t\t   |\n",
      "| Date: 15-02-2025 \t\t\t Recpt No: 782 \t   |\n",
      "------------------------------------------------------------\n",
      "| SR.\t Menu \t\t qnt \t\t Price             |\n",
      "------------------------------------------------------------\n",
      "| 1  \t pizza      \t 2        \t 300.0      \t   |\n",
      "| 2  \t pasta      \t 2        \t 200.0      \t   |\n",
      "------------------------------------------------------------\n",
      "| Total Amount: \t\t\t  1000.00          |\n",
      "| GST (10%): \t\t\t\t   100.00          |\n",
      "------------------------------------------------------------\n",
      "| Grand Total: \t\t\t\t  1100.00          |\n",
      "------------------------------------------------------------\n"
     ]
    }
   ],
   "source": [
    "from random import randint\n",
    "from datetime import date\n",
    "\n",
    "# today's date\n",
    "today = date.today()\n",
    "current_date = today.strftime(\"%d-%m-%Y\")\n",
    "\n",
    "# Generate a random receipt number\n",
    "recpt_no = randint(0, 1000)\n",
    "\n",
    "# Input menu items\n",
    "menu_list = []\n",
    "while True:\n",
    "    menu_input = input(\"Enter Menu Item (or enter 'ok' to Submit): \")\n",
    "    if menu_input.lower() == \"ok\":\n",
    "        break\n",
    "    menu_list.append(menu_input)\n",
    "\n",
    "# Display ordered items\n",
    "print(\"\\nYou have ordered:\")\n",
    "for dish in menu_list:\n",
    "    print(dish)\n",
    "\n",
    "# Get quantity for each menu item\n",
    "quantity_list = [int(input(f\"Enter quantity for {menu}: \")) for menu in menu_list]\n",
    "\n",
    "# Get price for each menu item\n",
    "price_list = [float(input(f\"Enter price for {menu}: \")) for menu in menu_list]\n",
    "\n",
    "# Generate a bill number\n",
    "def bill_number_generator():\n",
    "    bill_no = 1\n",
    "    while True:\n",
    "        yield bill_no\n",
    "        bill_no += 1\n",
    "\n",
    "bill_gen = bill_number_generator()\n",
    "\n",
    "def get_bill_number():\n",
    "    return next(bill_gen)\n",
    "\n",
    "bill_no = get_bill_number()\n",
    "\n",
    "# Calculate totals\n",
    "total = sum(price * quantity for price, quantity in zip(price_list, quantity_list))\n",
    "gst = total * 0.1  # 10% GST\n",
    "grand_total = total + gst\n",
    "\n",
    "# Print Bill\n",
    "print(\"--\" * 30)\n",
    "print(\"|\\t\\t Welcome to ABC\\t\\t   |\")\n",
    "print(\"| Date: {} \\t\\t\\t Recpt No: {} \\t   |\".format(current_date, recpt_no))\n",
    "print(\"--\" * 30)\n",
    "print(\"| SR.\\t Menu \\t\\t qnt \\t\\t Price             |\")\n",
    "print(\"--\" * 30)\n",
    "\n",
    "for i, (menu, quantity, price) in enumerate(zip(menu_list, quantity_list, price_list)):\n",
    "    print(\"| {:<2} \\t {:<10} \\t {:<8} \\t {:<10} \\t   |\".format(i+1, menu, quantity, price))\n",
    "\n",
    "print(\"--\" * 30)\n",
    "print(\"| Total Amount: \\t\\t\\t  {:.2f}       \".format(total) + \"   |\")\n",
    "print(\"| GST (10%): \\t\\t\\t\\t   {:.2f}        \".format(gst) + \"  |\")\n",
    "print(\"--\" * 30)\n",
    "print(\"| Grand Total: \\t\\t\\t\\t  {:.2f}       \".format(grand_total)+\"   |\")\n",
    "print('--'*30)\n",
    "\n"
   ]
  },
  {
   "cell_type": "code",
   "execution_count": null,
   "metadata": {},
   "outputs": [
    {
     "name": "stdout",
     "output_type": "stream",
     "text": [
      "Invalid file path. Please try again.\n",
      "Invalid file path. Please try again.\n",
      "Invalid file path. Please try again.\n",
      "Invalid file path. Please try again.\n"
     ]
    }
   ],
   "source": [
    "#20.Ask user to enter the valid file path and check which word is having more repetition in the file\n",
    "\n",
    "import os\n",
    "from collections import Counter\n",
    "\n",
    "def get_valid_file():\n",
    "    \"\"\"Ask the user for a valid file path until a correct one is provided.\"\"\"\n",
    "    while True:\n",
    "        file_path = input(\"Enter the valid file path: \").strip()\n",
    "        if os.path.isfile(file_path):\n",
    "            return file_path\n",
    "        print(\"Invalid file path. Please try again.\")\n",
    "\n",
    "def find_most_repeated_word(file_path):\n",
    "    \"\"\"Find the word with the highest repetition in the file.\"\"\"\n",
    "    with open(file_path, \"r\", encoding=\"utf-8\") as file:\n",
    "        text = file.read().lower()\n",
    "\n",
    "    words = text.split()\n",
    "    word_counts = Counter(words)\n",
    "    most_common = word_counts.most_common(1)\n",
    "\n",
    "    if most_common:\n",
    "        word, count = most_common[0]\n",
    "        print(f\"The most repeated word is '{word}' with {count} occurrences.\")\n",
    "    else:\n",
    "        print(\"No words found in the file.\")\n",
    "\n",
    "file_path = get_valid_file()\n",
    "find_most_repeated_word(file_path)\n"
   ]
  },
  {
   "cell_type": "code",
   "execution_count": 4,
   "metadata": {},
   "outputs": [
    {
     "name": "stdout",
     "output_type": "stream",
     "text": [
      "{'Error': \"[Errno 2] No such file or directory: '/content/data.txt'\"}\n"
     ]
    }
   ],
   "source": [
    "#21.Create a function which will accept the word and the file path and returns the dictionary as {word: occurances}\n",
    "\n",
    "import os\n",
    "\n",
    "def count_word_occurrences(word, file_path):\n",
    "    \"\"\"Counts occurrences of a given word in a file and returns as a dictionary.\"\"\"\n",
    "\n",
    "    if not os.path.isfile(file_path):\n",
    "        return {\"Error\": \"Invalid file path\"}\n",
    "\n",
    "    try:\n",
    "        with open(\"/content/data.txt\", \"r\", encoding=\"utf-8\") as file:\n",
    "            text = file.read().lower()\n",
    "\n",
    "        words = text.split()\n",
    "        word_count = words.count(word.lower())\n",
    "\n",
    "        return {word: word_count}\n",
    "\n",
    "    except Exception as e:\n",
    "        return {\"Error\": str(e)}\n",
    "\n",
    "file_path = \"abc.txt\"\n",
    "word = \"the\"\n",
    "result = count_word_occurrences(word, file_path)\n",
    "print(result)\n",
    "\n",
    "\n"
   ]
  },
  {
   "cell_type": "code",
   "execution_count": 3,
   "metadata": {},
   "outputs": [
    {
     "name": "stdout",
     "output_type": "stream",
     "text": [
      "{'abc': 1, '544109': 1, 'qre': 1, 'ors': 1, '551101': 1}\n"
     ]
    }
   ],
   "source": [
    "#22.\tCreate a function which will accept one file and returns all occurrences of the word\n",
    "# {‘market’ : 3, ‘is’:5, ‘new’:2}\n",
    "import os\n",
    "from collections import Counter\n",
    "import re\n",
    "\n",
    "def count_word_occurrences(file_path):\n",
    "    \"\"\"Reads a file and returns a dictionary with word occurrences.\"\"\"\n",
    "\n",
    "    if not os.path.isfile(file_path):\n",
    "        return {\"Error\": \"Invalid file path\"}\n",
    "\n",
    "    try:\n",
    "        with open(file_path, \"r\", encoding=\"utf-8\") as file:\n",
    "            text = file.read().lower()\n",
    "\n",
    "        words = re.findall(r'\\b\\w+\\b', text)\n",
    "        word_counts = Counter(words)\n",
    "\n",
    "        return dict(word_counts)\n",
    "\n",
    "    except Exception as e:\n",
    "        return {\"Error\": str(e)}\n",
    "\n",
    "\n",
    "file_path = \"abc.txt\"\n",
    "result = count_word_occurrences(file_path)\n",
    "print(result)"
   ]
  },
  {
   "cell_type": "code",
   "execution_count": null,
   "metadata": {},
   "outputs": [],
   "source": [
    "#23.\tBased on logic mentioned in question number 8 create the class"
   ]
  },
  {
   "cell_type": "code",
   "execution_count": 2,
   "metadata": {},
   "outputs": [
    {
     "name": "stdout",
     "output_type": "stream",
     "text": [
      "abc: 123\n",
      "pqr: 345\n",
      "rqs: 897\n"
     ]
    }
   ],
   "source": [
    "class DictionaryPrinter:\n",
    "    def __init__(self, dictionary):\n",
    "        self.dictionary = dictionary\n",
    "\n",
    "    def print_key_values(self):\n",
    "        for key, value in self.dictionary.items():\n",
    "            print(f\"{key}: {value}\")\n",
    "\n",
    "\n",
    "def print_dictionary(dictionary):\n",
    "    printer = DictionaryPrinter(dictionary)\n",
    "    printer.print_key_values()\n",
    "\n",
    "\n",
    "# Example usage:\n",
    "dictionary = {'abc': 123, 'pqr': 345, 'rqs': 897}\n",
    "print_dictionary(dictionary)"
   ]
  },
  {
   "cell_type": "code",
   "execution_count": null,
   "metadata": {},
   "outputs": [
    {
     "name": "stdout",
     "output_type": "stream",
     "text": [
      "Invalid folder path. Please try again.\n",
      "Invalid folder path. Please try again.\n",
      "Invalid folder path. Please try again.\n",
      "Invalid folder path. Please try again.\n",
      "Invalid folder path. Please try again.\n",
      "Invalid folder path. Please try again.\n",
      "Invalid folder path. Please try again.\n",
      "Invalid folder path. Please try again.\n"
     ]
    }
   ],
   "source": [
    "#24.Ask user to enter the folder path. \n",
    "# Folder may contain more than one file and with different extensions. Read only text file and return the more repetitive word\n",
    "\n",
    "import os\n",
    "from collections import Counter\n",
    "import re\n",
    "\n",
    "class FR:\n",
    "    def __init__(self, fp):\n",
    "        self.fp = fp\n",
    "\n",
    "    def rc(self):\n",
    "        if not os.path.isfile(self.fp):\n",
    "            raise FileNotFoundError(\"File not found\")\n",
    "        if self.fp.endswith(\".txt\"):\n",
    "            with open(self.fp, \"r\") as f:\n",
    "                return f.read()\n",
    "        elif self.fp.endswith((\".doc\", \".docx\")):\n",
    "            with open(self.fp, \"r\") as f:\n",
    "                return f.read()\n",
    "        else:\n",
    "            raise ValueError(\"Unsupported file type\")\n",
    "\n",
    "def gdp():\n",
    "    while True:\n",
    "        dp = input(\"Enter a folder path: \")\n",
    "        if os.path.isdir(dp):\n",
    "            return dp\n",
    "        else:\n",
    "            print(\"Invalid folder path. Please try again.\")\n",
    "\n",
    "def ltf(dp):\n",
    "    tf = []\n",
    "    for fn in os.listdir(dp):\n",
    "        if fn.endswith((\".txt\", \".pdf\", \".doc\", \".docx\")):\n",
    "            tf.append(os.path.join(dp, fn))\n",
    "    return tf\n",
    "\n",
    "def cwf(tc):\n",
    "    wds = re.findall(r'\\b\\w+\\b', tc)\n",
    "    return Counter(wds)\n",
    "\n",
    "def fmw(wf):\n",
    "    return wf.most_common(1)[0]\n",
    "\n",
    "dp = gdp()\n",
    "tf = ltf(dp)\n",
    "tc = \"\"\n",
    "\n",
    "for fp in tf:\n",
    "    tr = FR(fp)\n",
    "    tc += tr.rc()\n",
    "\n",
    "wf = cwf(tc)\n",
    "mw = fmw(wf)\n",
    "\n",
    "print(f\"The most repetitive word is '{mw[0]}' with {mw[1]} occurrences.\")\n"
   ]
  },
  {
   "cell_type": "code",
   "execution_count": 20,
   "metadata": {},
   "outputs": [
    {
     "name": "stdout",
     "output_type": "stream",
     "text": [
      "File Content:\n",
      " abc 544109\n",
      "qre \n",
      "ors 551101\n",
      "Total Words: 5\n"
     ]
    }
   ],
   "source": [
    "#25.Create a class for file reading\n",
    "\n",
    "import os\n",
    "\n",
    "class FileReader:\n",
    "    \"\"\"Class to handle file reading operations.\"\"\"\n",
    "\n",
    "    def __init__(self, file_path):\n",
    "        \"\"\"Initialize the class with a file path and check if the file exists.\"\"\"\n",
    "        if not os.path.isfile(file_path):\n",
    "            raise FileNotFoundError(\"Invalid file path. Please provide a valid file.\")\n",
    "        self.file_path = file_path\n",
    "\n",
    "    def read_content(self):\n",
    "        \"\"\"Reads the entire content of the file and returns it as a string.\"\"\"\n",
    "        try:\n",
    "            with open(self.file_path, \"r\", encoding=\"utf-8\") as file:\n",
    "                return file.read()\n",
    "        except Exception as e:\n",
    "            return f\"Error reading file: {e}\"\n",
    "\n",
    "    def read_lines(self):\n",
    "        \"\"\"Reads the file line by line and returns a list of lines.\"\"\"\n",
    "        try:\n",
    "            with open(self.file_path, \"r\", encoding=\"utf-8\") as file:\n",
    "                return file.readlines()\n",
    "        except Exception as e:\n",
    "            return f\"Error reading file: {e}\"\n",
    "\n",
    "    def count_words(self):\n",
    "        \"\"\"Counts the total number of words in the file.\"\"\"\n",
    "        try:\n",
    "            content = self.read_content()\n",
    "            if isinstance(content, str):\n",
    "                words = content.split()\n",
    "                return len(words)\n",
    "            return 0\n",
    "        except Exception as e:\n",
    "            return f\"Error counting words: {e}\"\n",
    "\n",
    "try:\n",
    "    file_reader = FileReader(\"abc.txt\")\n",
    "    print(\"File Content:\\n\", file_reader.read_content())\n",
    "    print(\"Total Words:\", file_reader.count_words())\n",
    "except FileNotFoundError as e:\n",
    "    print(e)\n",
    "\n",
    "\n"
   ]
  },
  {
   "cell_type": "code",
   "execution_count": 6,
   "metadata": {},
   "outputs": [
    {
     "name": "stdout",
     "output_type": "stream",
     "text": [
      "['age', 'height', 'score', 'is_student']\n"
     ]
    }
   ],
   "source": [
    "#26.Create a function which will accept the dictionary. \n",
    "# Dictionary may have values any date type format. If values are in integer or float then return respective key\n",
    "\n",
    "\n",
    "def get_numeric_keys(input_dict):\n",
    "    \"\"\"Returns keys where values are integers or floats.\"\"\"\n",
    "    return [key for key, value in input_dict.items() if isinstance(value, (int, float))]\n",
    "\n",
    "sample_dict = {\n",
    "    \"name\": \"Alice\",\n",
    "    \"age\": 25,\n",
    "    \"height\": 5.7,\n",
    "    \"city\": \"New York\",\n",
    "    \"score\": 90,\n",
    "    \"is_student\": False\n",
    "}\n",
    "\n",
    "result = get_numeric_keys(sample_dict)\n",
    "print(result)\n",
    "\n",
    "\n",
    "\n"
   ]
  },
  {
   "cell_type": "code",
   "execution_count": 7,
   "metadata": {},
   "outputs": [
    {
     "name": "stdout",
     "output_type": "stream",
     "text": [
      "abc\n",
      "Invalid input type: Name must be a string\n"
     ]
    }
   ],
   "source": [
    "#27.Create one decorator having exception logic inside it and create another \n",
    "# function which will refer to the decorator in case of errors\n",
    "#e.g  val_name is the function validating name but customized error should be thrown from decorator\n",
    "\n",
    "def val_inp(func):\n",
    "    def wrap(*args, **kwargs):\n",
    "        try:\n",
    "            return func(*args, **kwargs)\n",
    "        except ValueError as e:\n",
    "            raise ValueError(\"Invalid input: \" + str(e))\n",
    "        except TypeError as e:\n",
    "            raise TypeError(\"Invalid input type: \" + str(e))\n",
    "        except Exception as e:\n",
    "            raise Exception(\"An error occurred: \" + str(e))\n",
    "    return wrap\n",
    "\n",
    "@val_inp\n",
    "def val_nm(nm):\n",
    "    if not isinstance(nm, str):\n",
    "        raise TypeError(\"Name must be a string\")\n",
    "    if len(nm) < 2:\n",
    "        raise ValueError(\"Name must be at least 2 characters long\")\n",
    "    return nm\n",
    "try:\n",
    "    print(val_nm(\"abc\"))\n",
    "    print(val_nm(123))  \n",
    "    print(val_nm(\"a\"))  \n",
    "except Exception as e:\n",
    "    print(e)\n"
   ]
  },
  {
   "cell_type": "code",
   "execution_count": 11,
   "metadata": {},
   "outputs": [
    {
     "name": "stdout",
     "output_type": "stream",
     "text": [
      "User Details:\n",
      "Name: Abc\n",
      "Age: 20\n",
      "Email: abc@example.com\n",
      "\n",
      "Trying with missing keys...\n",
      "Error: 'Missing required keys: email'\n"
     ]
    }
   ],
   "source": [
    "#28.Create a class User.  User will be instantiated based on key available in the dictionary. \n",
    "# If dictionary is not having the key then generate error. If dictionary is having the key then display values against the same.\n",
    "\n",
    "class User:\n",
    "    \"\"\"\n",
    "    A class to represent a User.\n",
    "    It initializes attributes from a dictionary and validates keys.\n",
    "    \"\"\"\n",
    "\n",
    "    REQUIRED_KEYS = {\"name\", \"age\", \"email\"}\n",
    "\n",
    "    def __init__(self, user_dict):\n",
    "        \"\"\"\n",
    "        Initializes the User object if required keys are present.\n",
    "        \"\"\"\n",
    "        if not isinstance(user_dict, dict):\n",
    "            raise TypeError(\"Input must be a dictionary.\")\n",
    "\n",
    "        missing_keys = self.REQUIRED_KEYS - user_dict.keys()\n",
    "        if missing_keys:\n",
    "            raise KeyError(f\"Missing required keys: {', '.join(missing_keys)}\")\n",
    "\n",
    "        self.name = user_dict[\"name\"]\n",
    "        self.age = user_dict[\"age\"]\n",
    "        self.email = user_dict[\"email\"]\n",
    "\n",
    "    def display_info(self):\n",
    "        \"\"\"\n",
    "        Prints the user information.\n",
    "        \"\"\"\n",
    "        print(f\"User Details:\\nName: {self.name}\\nAge: {self.age}\\nEmail: {self.email}\")\n",
    "\n",
    "try:\n",
    "    user_data = {\"name\": \"Abc\", \"age\": 20, \"email\": \"abc@example.com\"}\n",
    "    user1 = User(user_data)\n",
    "    user1.display_info()\n",
    "\n",
    "except (KeyError, TypeError) as e:\n",
    "    print(f\"Error: {e}\")\n",
    "\n",
    "print(\"\\nTrying with missing keys...\")\n",
    "\n",
    "try:\n",
    "    invalid_data = {\"name\": \"Bob\", \"age\": 25}\n",
    "    user2 = User(invalid_data)\n",
    "    user2.display_info()\n",
    "\n",
    "except (KeyError, TypeError) as e:\n",
    "    print(f\"Error: {e}\")"
   ]
  },
  {
   "cell_type": "code",
   "execution_count": 12,
   "metadata": {},
   "outputs": [
    {
     "name": "stdout",
     "output_type": "stream",
     "text": [
      "20.4\n",
      "44.5\n",
      "7.52\n"
     ]
    }
   ],
   "source": [
    "#29.\tCreate a class pharma. One user A will enter the medicine name and price.  \n",
    "# Another user B will generate the bill based on entry done by the first user\n",
    "\n",
    "class Pharma:\n",
    "    def __init__(self):\n",
    "        self.med_dict = {}\n",
    "\n",
    "    def add_med(self, nm, pr):\n",
    "        self.med_dict[nm] = pr\n",
    "\n",
    "    def gen_bill(self, nm, qty):\n",
    "        if nm not in self.med_dict:\n",
    "            raise KeyError(f\"Medicine '{nm}' not found\")\n",
    "        return self.med_dict[nm] * qty   # bill count \n",
    "\n",
    "p = Pharma()\n",
    "\n",
    "# A enters medicine names and prices\n",
    "p.add_med(\"Paracetamol\", 10.2)\n",
    "p.add_med(\"Dolo\", 8.9)\n",
    "p.add_med(\"Combiflam\", 7.52)\n",
    "\n",
    "# B generates a bill\n",
    "try:\n",
    "    print(p.gen_bill(\"Paracetamol\", 2))\n",
    "    print(p.gen_bill(\"Dolo\", 5))\n",
    "    print(p.gen_bill(\"Combiflam\", 1))\n",
    "except KeyError as e:\n",
    "    print(e)"
   ]
  },
  {
   "cell_type": "code",
   "execution_count": 19,
   "metadata": {},
   "outputs": [
    {
     "name": "stdout",
     "output_type": "stream",
     "text": [
      "{'Pos_1': 544109, 'Pos_2': 551101}\n"
     ]
    }
   ],
   "source": [
    "#30.Read the file if the file contains number, then return the dictionary based on position and values of the number.\n",
    "\n",
    "import re\n",
    "\n",
    "def read_file(fn):\n",
    "    try:\n",
    "        with open(fn, \"r\") as fp:\n",
    "            text = fp.read()\n",
    "            nums = re.findall(r'\\d+', text)\n",
    "            dict_ = {}\n",
    "            for i, num in enumerate(nums):\n",
    "                dict_[f\"Pos_{i+1}\"] = int(num)\n",
    "            return dict_\n",
    "    except FileNotFoundError:\n",
    "        print(f\"File '{fn}' not found\")\n",
    "\n",
    "# Example usage:\n",
    "fn = \"abc.txt\"\n",
    "dict_ = read_file(fn)\n",
    "print(dict_)"
   ]
  },
  {
   "cell_type": "code",
   "execution_count": 18,
   "metadata": {},
   "outputs": [
    {
     "name": "stdout",
     "output_type": "stream",
     "text": [
      "{'User1': {'Pos_1': 544109, 'Pos_2': 551101}}\n",
      "{'User2': {'Pos_1': 20, 'Pos_2': 8972379828, 'Pos_3': 25, 'Pos_4': 8972379822, 'Pos_5': 25, 'Pos_6': 8766209468}}\n"
     ]
    }
   ],
   "source": [
    "#31.Create a class for file reading file if the file contains number, then return the dictionary based on user object, \n",
    "# having sub dictionary position and values of the number against that user file.\n",
    "\n",
    "\n",
    "import re\n",
    "\n",
    "class FileRead:\n",
    "    def __init__(self, us):\n",
    "        self.us = us\n",
    "        self.file_dict = {}\n",
    "\n",
    "    def read_file(self, fn):\n",
    "        try:\n",
    "            with open(fn, \"r\") as fp:\n",
    "                text = fp.read()\n",
    "                nums = re.findall(r'\\d+', text)\n",
    "                self.file_dict[self.us] = {}\n",
    "                for i, num in enumerate(nums):\n",
    "                    self.file_dict[self.us][f\"Pos_{i+1}\"] = int(num)\n",
    "        except FileNotFoundError:\n",
    "            print(f\"File '{fn}' not found\")\n",
    "\n",
    "    def get_file_dict(self):\n",
    "        return self.file_dict\n",
    "\n",
    "us1 = \"User1\"\n",
    "us2 = \"User2\"\n",
    "\n",
    "fr1 = FileRead(us1)\n",
    "fr1.read_file(\"abc.txt\")\n",
    "print(fr1.get_file_dict())\n",
    "\n",
    "fr2 = FileRead(us2)\n",
    "fr2.read_file(\"pqr.txt\")\n",
    "print(fr2.get_file_dict())\n",
    "\n",
    "\n"
   ]
  },
  {
   "cell_type": "code",
   "execution_count": 5,
   "metadata": {},
   "outputs": [
    {
     "name": "stdout",
     "output_type": "stream",
     "text": [
      "Booking Successful! Your confirmation number is HTL6367\n",
      "\n",
      "Booking Details:\n",
      "{'Name': 'Ruchita', 'PAN': 'ABCDE1234F', 'Mobile': '9876543210'}\n"
     ]
    }
   ],
   "source": [
    "#32.In hotel booking portal, user will enter pan card name and mobile number,\n",
    "#  store the same information into dictionary after successful booking user will get confirmation number. \n",
    "\n",
    "import re\n",
    "import random\n",
    "\n",
    "class HotelBooking:\n",
    "    \"\"\"\n",
    "    A class to handle hotel booking with PAN card, name, and mobile number validation.\n",
    "    \"\"\"\n",
    "\n",
    "    def __init__(self):\n",
    "        \"\"\"Initialize an empty dictionary to store booking details.\"\"\"\n",
    "        self.bookings = {}\n",
    "\n",
    "    def validate_pan(self, pan):\n",
    "        \"\"\"\n",
    "        Validate PAN card format (e.g., AAAAA1111X).\n",
    "        \"\"\"\n",
    "        pattern = r'^[A-Z]{5}[0-9]{4}[A-Z]$'\n",
    "        if re.match(pattern, pan):\n",
    "            return True\n",
    "        else:\n",
    "            raise ValueError(\"Invalid PAN card format. It should be in 'AAAAA1111X' format.\")\n",
    "\n",
    "    def validate_name(self, name):\n",
    "        \"\"\"\n",
    "        Validate user name (Only alphabets and spaces allowed).\n",
    "        \"\"\"\n",
    "        if name.replace(\" \", \"\").isalpha():\n",
    "            return True\n",
    "        else:\n",
    "            raise ValueError(\"Invalid name. Name should contain only alphabets.\")\n",
    "\n",
    "    def validate_mobile(self, mobile):\n",
    "        \"\"\"\n",
    "        Validate mobile number (10-digit numeric).\n",
    "        \"\"\"\n",
    "        pattern = r'^[6-9]\\d{9}$'  # Starts with 6-9 and has 10 digits\n",
    "        if re.match(pattern, mobile):\n",
    "            return True\n",
    "        else:\n",
    "            raise ValueError(\"Invalid mobile number. Must be a 10-digit number starting with 6-9.\")\n",
    "\n",
    "    def book_hotel(self, name, pan, mobile):\n",
    "        \"\"\"\n",
    "        Process hotel booking and generate a confirmation number.\n",
    "        \"\"\"\n",
    "        try:\n",
    "            self.validate_name(name)\n",
    "            self.validate_pan(pan)\n",
    "            self.validate_mobile(mobile)\n",
    "\n",
    "            confirmation_number = \"HTL\" + str(random.randint(1000, 9999))\n",
    "\n",
    "            self.bookings[confirmation_number] = {\n",
    "                \"Name\": name,\n",
    "                \"PAN\": pan,\n",
    "                \"Mobile\": mobile\n",
    "            }\n",
    "\n",
    "            print(f\"Booking Successful! Your confirmation number is {confirmation_number}\")\n",
    "            return confirmation_number\n",
    "\n",
    "        except ValueError as e:\n",
    "            print(f\"Error: {e}\")\n",
    "\n",
    "    def get_booking_details(self, confirmation_number):\n",
    "        \"\"\"\n",
    "        Retrieve booking details using the confirmation number.\n",
    "        \"\"\"\n",
    "        return self.bookings.get(confirmation_number, \"No booking found with this confirmation number.\")\n",
    "\n",
    "hotel = HotelBooking()\n",
    "\n",
    "confirmation = hotel.book_hotel(\"Ruchita\", \"ABCDE1234F\", \"9876543210\")\n",
    "\n",
    "if confirmation:\n",
    "    print(\"\\nBooking Details:\")\n",
    "    print(hotel.get_booking_details(confirmation))"
   ]
  },
  {
   "cell_type": "code",
   "execution_count": 8,
   "metadata": {},
   "outputs": [
    {
     "name": "stdout",
     "output_type": "stream",
     "text": [
      "User 'A_student' registered successfully!\n",
      "User 'B_student' registered successfully!\n",
      "User 'C_student' registered successfully!\n",
      "User 'B_student' signed in successfully!\n",
      "Marks entered for Student ID S001: 85\n",
      "User 'C_student' signed in successfully!\n",
      "\n",
      "--- Marks List ---\n",
      "Student ID: S001, Marks: 85\n",
      "User 'A_student' signed in successfully!\n",
      "Student 'A_student', Marks: 85\n",
      "User 'B_student' signed out successfully!\n",
      "User 'C_student' signed out successfully!\n",
      "User 'A_student' signed out successfully!\n"
     ]
    }
   ],
   "source": [
    "#33.\tCreate a super class user. Having methods register, sing in, sign out.   \n",
    "#  Super class can be inherited by student, professor, admin\n",
    "\n",
    "#Admin and students can view the marks and professor can enter the marks\n",
    "#But marks can be visible to students on the given result date\n",
    "\n",
    "\n",
    "import datetime\n",
    "\n",
    "class User:\n",
    "    \"\"\"\n",
    "    Superclass for user management with methods for register, sign-in, and sign-out.\n",
    "    \"\"\"\n",
    "    user_database = {}\n",
    "\n",
    "    def __init__(self, username, password):\n",
    "        self.username = username\n",
    "        self.password = password\n",
    "        self.is_logged_in = False\n",
    "\n",
    "    def register(self):\n",
    "        \"\"\"\n",
    "        Registers a new user and prevents duplicate usernames.\n",
    "        \"\"\"\n",
    "        if self.username in User.user_database:\n",
    "            print(\"Error: Username already exists. Choose a different username.\")\n",
    "        else:\n",
    "            User.user_database[self.username] = self.password\n",
    "            print(f\"User '{self.username}' registered successfully!\")\n",
    "\n",
    "    def sign_in(self, username, password):\n",
    "        \"\"\"\n",
    "        Signs in the user if credentials match.\n",
    "        \"\"\"\n",
    "        if username in User.user_database and User.user_database[username] == password:\n",
    "            self.is_logged_in = True\n",
    "            print(f\"User '{username}' signed in successfully!\")\n",
    "        else:\n",
    "            print(\"Error: Invalid username or password.\")\n",
    "\n",
    "    def sign_out(self):\n",
    "        \"\"\"\n",
    "        Signs out the user.\n",
    "        \"\"\"\n",
    "        if self.is_logged_in:\n",
    "            self.is_logged_in = False\n",
    "            print(f\"User '{self.username}' signed out successfully!\")\n",
    "        else:\n",
    "            print(\"Error: User is not signed in.\")\n",
    "\n",
    "class Student(User):\n",
    "    \"\"\"\n",
    "    Represents a student, inheriting user functionalities.\n",
    "    \"\"\"\n",
    "    def __init__(self, username, password, student_id):\n",
    "        super().__init__(username, password)\n",
    "        self.student_id = student_id\n",
    "\n",
    "    def view_marks(self, result_date, marks):\n",
    "        \"\"\"\n",
    "        Allows students to view marks only after the result date.\n",
    "        \"\"\"\n",
    "        today = datetime.date.today()\n",
    "        if today >= result_date:\n",
    "            print(f\"Student '{self.username}', Marks: {marks}\")\n",
    "        else:\n",
    "            print(\"Marks not available yet. Please wait for the result date.\")\n",
    "\n",
    "class Professor(User):\n",
    "    \"\"\"\n",
    "    Represents a professor, inheriting user functionalities.\n",
    "    \"\"\"\n",
    "    def __init__(self, username, password, professor_id):\n",
    "        super().__init__(username, password)\n",
    "        self.professor_id = professor_id\n",
    "\n",
    "    def enter_marks(self, marks_dict, student_id, marks):\n",
    "        \"\"\"\n",
    "        Professors can enter marks for students.\n",
    "        \"\"\"\n",
    "        marks_dict[student_id] = marks\n",
    "        print(f\"Marks entered for Student ID {student_id}: {marks}\")\n",
    "\n",
    "class Admin(User):\n",
    "    \"\"\"\n",
    "    Represents an admin, inheriting user functionalities.\n",
    "    \"\"\"\n",
    "    def __init__(self, username, password, admin_id):\n",
    "        super().__init__(username, password)\n",
    "        self.admin_id = admin_id\n",
    "\n",
    "    def view_marks(self, marks_dict):\n",
    "        \"\"\"\n",
    "        Admins can view all student marks.\n",
    "        \"\"\"\n",
    "        print(\"\\n--- Marks List ---\")\n",
    "        for student_id, marks in marks_dict.items():\n",
    "            print(f\"Student ID: {student_id}, Marks: {marks}\")\n",
    "\n",
    "marks_data = {}\n",
    "result_date = datetime.date(2024, 6, 1)\n",
    "\n",
    "student = Student(\"A_student\", \"password123\", \"S001\")\n",
    "professor = Professor(\"B_student\", \"securepass\", \"P101\")\n",
    "admin = Admin(\"C_student\", \"adminpass\", \"A001\")\n",
    "\n",
    "student.register()\n",
    "professor.register()\n",
    "admin.register()\n",
    "\n",
    "professor.sign_in(\"B_student\", \"securepass\")\n",
    "professor.enter_marks(marks_data, \"S001\", 85)\n",
    "\n",
    "admin.sign_in(\"C_student\", \"adminpass\")\n",
    "admin.view_marks(marks_data)\n",
    "\n",
    "student.sign_in(\"A_student\", \"password123\")\n",
    "student.view_marks(result_date, marks_data.get(\"S001\", \"Not Available\"))\n",
    "\n",
    "professor.sign_out()\n",
    "admin.sign_out()\n",
    "student.sign_out()"
   ]
  },
  {
   "cell_type": "code",
   "execution_count": 10,
   "metadata": {},
   "outputs": [
    {
     "name": "stdout",
     "output_type": "stream",
     "text": [
      "ruchita uploaded resume: ruchita.pdf\n",
      "Employer viewing ruchita's resume: ruchita.pdf\n"
     ]
    }
   ],
   "source": [
    "#34.Create suitable classes, methods and attributes for resume exchange.\n",
    "#  Employee to upload the file and the same file is visible to employer \n",
    "\n",
    "class Emp:\n",
    "    def __init__(self, un):\n",
    "        self.un = un  \n",
    "        self.rs = None  \n",
    "\n",
    "    def ur(self, fn):\n",
    "        \"\"\"Upload resume\"\"\"\n",
    "        self.rs = fn\n",
    "        print(f\"{self.un} uploaded resume: {fn}\")\n",
    "\n",
    "class Er:\n",
    "    def vr(self, emp):\n",
    "        \"\"\"View resume\"\"\"\n",
    "        if emp.rs:\n",
    "            print(f\"Employer viewing {emp.un}'s resume: {emp.rs}\")\n",
    "        else:\n",
    "            print(f\"No resume uploaded by {emp.un}\")\n",
    "\n",
    "e1 = Emp(\"ruchita\")  \n",
    "er = Er()  \n",
    "\n",
    "e1.ur(\"ruchita.pdf\")  \n",
    "er.vr(e1) \n"
   ]
  },
  {
   "cell_type": "code",
   "execution_count": 22,
   "metadata": {},
   "outputs": [
    {
     "name": "stdout",
     "output_type": "stream",
     "text": [
      "Connected to EmployeesDB.\n",
      "Employee ruchita added.\n",
      "Error adding employee: ('23000', \"[23000] [Microsoft][ODBC SQL Server Driver][SQL Server]Violation of UNIQUE KEY constraint 'UQ__Employee__250375B1835F85B4'. Cannot insert duplicate key in object 'dbo.Employees'. The duplicate key value is (9876543213). (2627) (SQLExecDirectW); [23000] [Microsoft][ODBC SQL Server Driver][SQL Server]The statement has been terminated. (3621)\")\n",
      "Salary: 200000.00\n",
      "Leave applied for Employee ID 1 on 2025-02-20.\n",
      "(2, 1, '2025-02-20')\n",
      "(3, 1, '2025-02-20')\n",
      "Leave request not found.\n",
      "Connection closed.\n"
     ]
    }
   ],
   "source": [
    "#35.Perform the database connectivity and save all employee details in the database \n",
    "#Like name, mobile, address\n",
    "\n",
    "#Create the proper class with methods like user information, \n",
    "# calculate the salary, apply for the leave, view leaves, approve leaves. \n",
    "# Records for leave application should be stored in dummy table (temporary view). \n",
    "# Once the leave is approved then it should move to permanent table.\n",
    "import pyodbc\n",
    "\n",
    "class EmployeeDB:\n",
    "    def __init__(self, server, db_name):\n",
    "        \"\"\"Initialize database connection\"\"\"\n",
    "        self.server = server\n",
    "        self.db_name = db_name\n",
    "        self.conn = None\n",
    "        self.cur = None\n",
    "\n",
    "    def connect(self):\n",
    "        try:\n",
    "            self.conn = pyodbc.connect(f'Driver={{SQL Server}};'\n",
    "                                       f'Server={self.server};'\n",
    "                                       f'Database={self.db_name};'\n",
    "                                       'Trusted_Connection=yes')\n",
    "            self.cur = self.conn.cursor()\n",
    "            print(f\"Connected to {self.db_name}.\")\n",
    "        except Exception as e:\n",
    "            print(f\"Error connecting to the database: {e}\")\n",
    "\n",
    "    def add_emp(self, name, mobile, addr, salary):\n",
    "        try:\n",
    "            self.cur.execute(\"INSERT INTO Employees (Name, MobileNumber, Address, Salary) VALUES (?, ?, ?, ?)\",\n",
    "                             (name, mobile, addr, salary))\n",
    "            self.conn.commit()\n",
    "            print(f\"Employee {name} added.\")\n",
    "        except Exception as e:\n",
    "            print(f\"Error adding employee: {e}\")\n",
    "\n",
    "    def get_salary(self, eid):\n",
    "        try:\n",
    "            self.cur.execute(\"SELECT Salary FROM Employees WHERE EmployeeID = ?\", (eid,))\n",
    "            salary = self.cur.fetchone()\n",
    "            if salary:\n",
    "                print(f\"Salary: {salary[0]}\")\n",
    "            else:\n",
    "                print(\"Employee not found.\")\n",
    "        except Exception as e:\n",
    "            print(f\"Error fetching salary: {e}\")\n",
    "\n",
    "    def apply_leave(self, eid, l_date):\n",
    "        try:\n",
    "            self.cur.execute(\"INSERT INTO Leaves_Temp (EmployeeID, LeaveDate) VALUES (?, ?)\", (eid, l_date))\n",
    "            self.conn.commit()\n",
    "            print(f\"Leave applied for Employee ID {eid} on {l_date}.\")\n",
    "        except Exception as e:\n",
    "            print(f\"Error applying leave: {e}\")\n",
    "\n",
    "    def view_leaves(self):\n",
    "        try:\n",
    "            self.cur.execute(\"SELECT LeaveID, EmployeeID, LeaveDate FROM Leaves_Temp WHERE Status = 'Pending'\")\n",
    "            leaves = self.cur.fetchall()\n",
    "            if leaves:\n",
    "                for leave in leaves:\n",
    "                    print(leave)\n",
    "            else:\n",
    "                print(\"No pending leave requests.\")\n",
    "        except Exception as e:\n",
    "            print(f\"Error fetching leave requests: {e}\")\n",
    "\n",
    "    def approve_leave(self, lid):\n",
    "        try:\n",
    "            self.cur.execute(\"SELECT EmployeeID, LeaveDate FROM Leaves_Temp WHERE LeaveID = ?\", (lid,))\n",
    "            leave_record = self.cur.fetchone()\n",
    "            if leave_record:\n",
    "                self.cur.execute(\"INSERT INTO Leaves (LeaveID, EmployeeID, LeaveDate) VALUES (?, ?, ?)\",\n",
    "                                 (lid, leave_record[0], leave_record[1]))\n",
    "                self.cur.execute(\"DELETE FROM Leaves_Temp WHERE LeaveID = ?\", (lid,))\n",
    "                self.conn.commit()\n",
    "                print(f\"Leave ID {lid} approved.\")\n",
    "            else:\n",
    "                print(\"Leave request not found.\")\n",
    "        except Exception as e:\n",
    "            print(f\"Error approving leave: {e}\")\n",
    "\n",
    "    def close(self):\n",
    "        \"\"\"Close database connection\"\"\"\n",
    "        if self.cur:\n",
    "            self.cur.close()\n",
    "        if self.conn:\n",
    "            self.conn.close()\n",
    "        print(\"Connection closed.\")\n",
    "\n",
    "if __name__ == \"__main__\":\n",
    "    db = EmployeeDB(server=\"AR\", db_name=\"EmployeesDB\")\n",
    "\n",
    "    db.connect()  \n",
    "\n",
    "    # Add employees\n",
    "    db.add_emp(\"ruchita\", \"8876543212\", \"Pune\", 400000)\n",
    "    db.add_emp(\"nikita\", \"9876543213\", \"Pune\", 50000)\n",
    "\n",
    "    db.get_salary(1)  # Fetch salary\n",
    "    db.apply_leave(1, \"2025-02-20\")  # Apply for leave\n",
    "    db.view_leaves()  # View pending leaves\n",
    "    db.approve_leave(1)  # Approve leave\n",
    "    db.close()  # Close connection\n"
   ]
  },
  {
   "cell_type": "code",
   "execution_count": null,
   "metadata": {},
   "outputs": [],
   "source": []
  },
  {
   "cell_type": "code",
   "execution_count": null,
   "metadata": {},
   "outputs": [],
   "source": []
  },
  {
   "cell_type": "code",
   "execution_count": null,
   "metadata": {},
   "outputs": [],
   "source": []
  },
  {
   "cell_type": "code",
   "execution_count": null,
   "metadata": {},
   "outputs": [],
   "source": []
  },
  {
   "cell_type": "code",
   "execution_count": null,
   "metadata": {},
   "outputs": [],
   "source": []
  },
  {
   "cell_type": "code",
   "execution_count": null,
   "metadata": {},
   "outputs": [],
   "source": []
  },
  {
   "cell_type": "code",
   "execution_count": null,
   "metadata": {},
   "outputs": [],
   "source": []
  },
  {
   "cell_type": "code",
   "execution_count": null,
   "metadata": {},
   "outputs": [],
   "source": []
  }
 ],
 "metadata": {
  "kernelspec": {
   "display_name": "base",
   "language": "python",
   "name": "python3"
  },
  "language_info": {
   "codemirror_mode": {
    "name": "ipython",
    "version": 3
   },
   "file_extension": ".py",
   "mimetype": "text/x-python",
   "name": "python",
   "nbconvert_exporter": "python",
   "pygments_lexer": "ipython3",
   "version": "3.12.7"
  }
 },
 "nbformat": 4,
 "nbformat_minor": 2
}
